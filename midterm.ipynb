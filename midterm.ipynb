{
  "cells": [
    {
      "cell_type": "markdown",
      "metadata": {
        "id": "view-in-github",
        "colab_type": "text"
      },
      "source": [
        "<a href=\"https://colab.research.google.com/github/venkateshpaturu/venkatesh-HDS/blob/main/midterm.ipynb\" target=\"_parent\"><img src=\"https://colab.research.google.com/assets/colab-badge.svg\" alt=\"Open In Colab\"/></a>"
      ]
    },
    {
      "cell_type": "markdown",
      "metadata": {
        "id": "2Zuu_CJEV2U4"
      },
      "source": [
        "### Mid-term for HDS5210\n",
        "\n",
        "Your supervisor is concerned about 4-year survival risks for COPD. She has asked for you to do some analysis using a new metric, BODE. BODE is an improvement on a previous metric and promises to provide insight on survival risks.\n",
        "\n",
        "BODE is defined here. https://www.mdcalc.com/calc/3916/bode-index-copd-survival#evidence\n",
        "\n",
        "Your assignment is to create a BODE calculation, use it to calculate BODE scores and BODE survival rates for a group of patients. Then we want to evaluate the average BODE scores and BODE survival rates for each area hospital.\n",
        "\n",
        "Your patient input file will have the following columns:\n",
        "NAME,SSN,LANGUAGE,JOB,HEIGHT_M,WEIGHT_KG,fev_pct,dyspnea_description,distance_in_meters,hospital\n",
        "\n",
        "BODE calculations require a BMI value, so you will have to create a function for it.\n",
        "\n",
        "Your output should be in the form of two CSV files, patient_output.csv and hospital_output.csv.\n",
        "\n",
        "Patient_output will have the following columns:\n",
        "NAME,BODE_SCORE,BODE_RISK,HOSPITAL\n",
        "\n",
        "Hospital output will have the following columns:\n",
        "HOSPITAL_NAME, COPD_COUNT, PCT_OF_COPD_CASES_OVER_BEDS, AVG_SCORE, AVG_RISK\n",
        "\n",
        "Each function you create should have documentation and a suitable number of test cases. If the input data could be wrong, make sure to raise a Value Error.\n",
        "\n",
        "For this assignment, use the doctest, json, and csv libraries. Pandas is not allowed for this assignment."
      ]
    },
    {
      "cell_type": "code",
      "execution_count": 32,
      "metadata": {
        "id": "TnSBqcw8V2U-"
      },
      "outputs": [],
      "source": [
        "import doctest\n",
        "import json\n",
        "import csv"
      ]
    },
    {
      "cell_type": "markdown",
      "metadata": {
        "id": "fqNfwizyV2VB"
      },
      "source": [
        "### Step 1: Calculate BMI"
      ]
    },
    {
      "cell_type": "code",
      "execution_count": 33,
      "metadata": {
        "id": "GnijnbQxV2VC"
      },
      "outputs": [],
      "source": [
        "def calculate_bmi(weight_kg, height_m):\n",
        "    \"\"\"\n",
        "    Calculate BMI from weight and height.\n",
        "\n",
        "    >>> calculate_bmi(70, 1.75)\n",
        "    22.86\n",
        "    >>> calculate_bmi(90, 1.90)\n",
        "    24.93\n",
        "    \"\"\"\n",
        "    if weight_kg <= 0 or height_m <= 0:\n",
        "        raise ValueError(\"Weight and height must be positive values.\")\n",
        "\n",
        "    return round(weight_kg / (height_m ** 2), 2)"
      ]
    },
    {
      "cell_type": "markdown",
      "metadata": {
        "id": "AOmnomfuV2VD"
      },
      "source": [
        "### Step 2: Calculate BODE Score"
      ]
    },
    {
      "cell_type": "code",
      "source": [
        "def calculate_bode_score(bmi, fev_pct, dyspnea, distance):\n",
        "    \"\"\"\n",
        "    Calculate the BODE score based on BMI, FEV1%, dyspnea, and distance.\n",
        "    Returns the BODE score as an integer.\n",
        "    \"\"\"\n",
        "    # BMI score\n",
        "    if bmi >= 21:\n",
        "        bmi_score = 0\n",
        "    elif 21 > bmi >= 21:\n",
        "        bmi_score = 1\n",
        "    else:\n",
        "        bmi_score = 2\n",
        "\n",
        "    # FEV1% score\n",
        "    if fev_pct >= 65:\n",
        "        fev_score = 0\n",
        "    elif 50 <= fev_pct < 65:\n",
        "        fev_score = 1\n",
        "    elif 36 <= fev_pct < 50:\n",
        "        fev_score = 2\n",
        "    else:\n",
        "        fev_score = 3\n",
        "\n",
        "    # Dyspnea score\n",
        "    dyspnea_scores = {\n",
        "        'None': 0,\n",
        "        'Mild': 1,\n",
        "        'Moderate': 2,\n",
        "        'Severe': 3,\n",
        "    }\n",
        "    dyspnea_score = dyspnea_scores.get(dyspnea, 0)  # Default to 0 if dyspnea is not in the dictionary\n",
        "\n",
        "    # calculating the distance walked score\n",
        "    if distance >= 350:\n",
        "        distance_score = 0\n",
        "    elif 250 <= distance < 350:\n",
        "        distance_score = 1\n",
        "    elif 150 <= distance < 250:\n",
        "        distance_score = 2\n",
        "    else:\n",
        "        distance_score = 3\n",
        "\n",
        "    # Total BODE score\n",
        "    bode_score = bmi_score + fev_score + dyspnea_score + distance_score\n",
        "    return bode_score\n"
      ],
      "metadata": {
        "id": "21xwI0FG-jI8"
      },
      "execution_count": 34,
      "outputs": []
    },
    {
      "cell_type": "markdown",
      "metadata": {
        "id": "c0RQMfl_V2VE"
      },
      "source": [
        "### Step 3: Calculate BODE Risk"
      ]
    },
    {
      "cell_type": "code",
      "execution_count": 35,
      "metadata": {
        "id": "Wulj32_IV2VE"
      },
      "outputs": [],
      "source": [
        "def calculate_bode_risk(bode_score):\n",
        "    \"\"\"\n",
        "    Calculating the 4-year survival risk based on the BODE score.\n",
        "    Returns the survival risk percentage as a float.\n",
        "    \"\"\"\n",
        "    # Defining the survival rates based on BODE score\n",
        "    survival_risk_mapping = {\n",
        "        0: 80.0,  # 80% 4-year survival for BODE score 0-2\n",
        "        1: 80.0,\n",
        "        2: 80.0,\n",
        "        3: 67.0,  # 67% 4-year survival for BODE score 3-4\n",
        "        4: 67.0,\n",
        "        5: 57.0,  # 57% 4-year survival for BODE score 5-6\n",
        "        6: 57.0,\n",
        "        7: 35.0,  # 35% 4-year survival for BODE score 7-10\n",
        "        8: 35.0,\n",
        "        9: 35.0,\n",
        "        10: 35.0\n",
        "    }\n",
        "\n",
        "    # Checking the bode_score is between 0 and 10\n",
        "    bode_score = min(max(bode_score, 0), 10)\n",
        "\n",
        "    # Returning the corresponding survival risk\n",
        "    return survival_risk_mapping.get(bode_score, 35.0)\n"
      ]
    },
    {
      "cell_type": "markdown",
      "metadata": {
        "id": "rzYeL0h-V2VF"
      },
      "source": [
        "### Step 4: Load Hospital Data"
      ]
    },
    {
      "cell_type": "code",
      "execution_count": 36,
      "metadata": {
        "id": "VbnwZXYfV2VF"
      },
      "outputs": [],
      "source": [
        "import json\n",
        "\n",
        "hospital_json = \"hospitals.json\"\n",
        "\n",
        "# Load hospital data from the JSON file\n",
        "with open(hospital_json, 'r') as f:\n",
        "    data = json.load(f)\n",
        "\n",
        "hospital_beds = {}\n",
        "hospital_metrics = {}\n",
        "\n",
        "# Looping through each system in the data\n",
        "for system in data:\n",
        "    # Each system that has  a list of hospitals\n",
        "    if 'hospitals' in system:\n",
        "        for hospital in system['hospitals']:\n",
        "            hospital_name = hospital.get('name')\n",
        "            beds = hospital.get('beds', 0)\n",
        "\n",
        "            if hospital_name:\n",
        "                hospital_beds[hospital_name] = beds\n",
        "\n",
        "                # Initializing hospital metrics\n",
        "                hospital_metrics[hospital_name] = {\n",
        "                    'total_bode_score': 0,\n",
        "                    'total_risk': 0,\n",
        "                    'copd_count': 0,\n",
        "                    'beds': beds\n",
        "                }\n",
        "\n"
      ]
    },
    {
      "cell_type": "markdown",
      "metadata": {
        "id": "NTVCVzBoV2VG"
      },
      "source": [
        "### Step 5: Main business logic\n",
        "\n",
        "Call BODE Score, BODE Risk functions for each patient.\n",
        "\n",
        "For each hospital, calculate Avg BODE score and Avg BODE risk and count the number of cases for each hospital."
      ]
    },
    {
      "cell_type": "code",
      "execution_count": 37,
      "metadata": {
        "id": "eWEGJWnUV2VG"
      },
      "outputs": [],
      "source": [
        "\n",
        "\n",
        "\n",
        "patient_csv = \"patient.csv\"\n",
        "hospital_json_file = \"hospitals.json\"\n",
        "\n",
        "patient_output_file = \"patient_output.csv\"\n",
        "hospital_output_file = \"hospital_output.csv\"\n",
        "\n",
        "patient_results = []\n",
        "\n",
        "# Read the patient data from the CSV file\n",
        "with open(patient_csv, 'r') as csvfile:\n",
        "    reader = csv.DictReader(csvfile)\n",
        "\n",
        "    for row in reader:\n",
        "        name = row['NAME']\n",
        "        ssn = row['SSN']\n",
        "        language = row['LANGUAGE']\n",
        "        job = row['JOB']\n",
        "        height_m = float(row['HEIGHT_M'])\n",
        "        weight_kg = float(row['WEIGHT_KG'])\n",
        "        fev_pct = float(row['fev_pct'])\n",
        "        dyspnea_description = row['dyspnea_description']\n",
        "        distance_in_meters = float(row['distance_in_meters'])\n",
        "        hospital_name = row['hospital']\n",
        "\n",
        "        # Calculate BMI, BODE score, and BODE risk\n",
        "        bmi = calculate_bmi(weight_kg, height_m)\n",
        "        bode_score = calculate_bode_score(bmi, fev_pct, dyspnea_description, distance_in_meters)\n",
        "        bode_risk = calculate_bode_risk(bode_score)\n",
        "\n",
        "        # Add patient results\n",
        "        patient_results.append([name, bode_score, bode_risk, hospital_name])\n",
        "\n",
        "        # Update hospital metrics\n",
        "        if hospital_name in hospital_metrics:\n",
        "            hospital_metrics[hospital_name]['total_bode_score'] += bode_score\n",
        "            hospital_metrics[hospital_name]['total_risk'] += bode_risk\n",
        "            hospital_metrics[hospital_name]['copd_count'] += 1\n",
        "\n",
        "hospital_output_list = []\n",
        "\n",
        "# Calculate hospital metrics\n",
        "for hospital_name, metrics in hospital_metrics.items():\n",
        "    copd_count = metrics['copd_count']\n",
        "    if copd_count > 0:\n",
        "        avg_bode_score = metrics['total_bode_score'] / copd_count\n",
        "        avg_bode_risk = metrics['total_risk'] / copd_count\n",
        "    else:\n",
        "        avg_bode_score = 0\n",
        "        avg_bode_risk = 0\n",
        "    pct_of_copd_cases = (copd_count / metrics['beds']) * 100 if metrics['beds'] > 0 else 0\n",
        "    hospital_output_list.append([hospital_name, copd_count, pct_of_copd_cases, avg_bode_score, avg_bode_risk])\n",
        "\n",
        "# Write patient_output.csv\n",
        "with open(patient_output_file, 'w', newline='') as csvfile:\n",
        "    writer = csv.writer(csvfile)\n",
        "    writer.writerow([\"NAME\", \"BODE_SCORE\", \"BODE_RISK\", \"HOSPITAL\"])\n",
        "    writer.writerows(patient_results)\n",
        "\n",
        "# Write hospital_output.csv\n",
        "with open(hospital_output_file, 'w', newline='') as csvfile:\n",
        "    writer = csv.writer(csvfile)\n",
        "    writer.writerow([\"HOSPITAL_NAME\", \"COPD_COUNT\", \"PCT_OF_COPD_CASES_OVER_BEDS\", \"AVG_SCORE\", \"AVG_RISK\"])\n",
        "    writer.writerows(hospital_output_list)\n"
      ]
    },
    {
      "cell_type": "code",
      "source": [
        "if __name__ == \"__main__\":\n",
        "    doctest.testmod()\n"
      ],
      "metadata": {
        "id": "IUEPB5-WfI8z"
      },
      "execution_count": 38,
      "outputs": []
    }
  ],
  "metadata": {
    "language_info": {
      "name": "python"
    },
    "colab": {
      "provenance": [],
      "include_colab_link": true
    },
    "kernelspec": {
      "name": "python3",
      "display_name": "Python 3"
    }
  },
  "nbformat": 4,
  "nbformat_minor": 0
}