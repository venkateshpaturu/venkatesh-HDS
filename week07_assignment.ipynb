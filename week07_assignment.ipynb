{
  "cells": [
    {
      "cell_type": "markdown",
      "metadata": {
        "id": "view-in-github",
        "colab_type": "text"
      },
      "source": [
        "<a href=\"https://colab.research.google.com/github/venkateshpaturu/venkatesh-HDS/blob/main/week07_assignment.ipynb\" target=\"_parent\"><img src=\"https://colab.research.google.com/assets/colab-badge.svg\" alt=\"Open In Colab\"/></a>"
      ]
    },
    {
      "cell_type": "markdown",
      "metadata": {
        "id": "_S5YGZIDOno4"
      },
      "source": [
        "# Week 7 Assignment\n",
        "\n",
        "We've been working with different types of data structures in Python (dictionary, list, etc), how those are represented in JSON documents, and how to write code to access specific data elements. In this week's assignment, you will need to create your own JSON document to store information about yourself and the grades you've received from week 1 to week 4 and the week 6 quiz.  That is, everything you should have received a grade for.  Then you'll need to show me you know how to navigate the JSON in that file.\n",
        "\n",
        "Different from what we've done in the past, you do not have to write any functions or include any docstrings.  Just create some JSON and write some code.\n",
        "\n",
        "---"
      ]
    },
    {
      "cell_type": "markdown",
      "metadata": {
        "id": "nsbE--vKOno7"
      },
      "source": [
        "## 7.1 Create a JSON file\n",
        "\n",
        "Create a JSON file that contains your name, email, year you were born, all of the grades you've received back so far, and a comment about what you thought was most challenging on each of those assignments.  This can be any structure you choose, but make sure it uses a dictionary and a list, and has at least two levels of hierarchy.  That is, it can't just be one big long list."
      ]
    },
    {
      "cell_type": "markdown",
      "metadata": {
        "id": "wZAqmMr3Ono8"
      },
      "source": [
        "First, explain how your data structure is going to look..."
      ]
    },
    {
      "cell_type": "markdown",
      "metadata": {
        "id": "eZUOwB_OOno8"
      },
      "source": [
        "* Put your explanation here in text..."
      ]
    },
    {
      "cell_type": "markdown",
      "metadata": {
        "id": "oBGKXr4IOno8"
      },
      "source": [
        "Then put the actual JSON you've created inside the multiline string below..."
      ]
    },
    {
      "cell_type": "code",
      "execution_count": null,
      "metadata": {
        "id": "PkFt0viaOno9"
      },
      "outputs": [],
      "source": [
        "hds5210 =\"\"\"\n",
        "{\n",
        "    \"name\": \"venkatesh paturu\",\n",
        "    \"email\": \"venkatesh.pharmd16.com\",\n",
        "    \"year_born\": 1997,\n",
        "    \"marcks\": [\n",
        "        {\n",
        "            \"week\": 1,\n",
        "            \"marks\": 10,\n",
        "            \"comment\": \"Creating a GitHub account and adding the instructor as a collaborator is easy.\"\n",
        "        },\n",
        "        {\n",
        "            \"week\": 2,\n",
        "            \"marks\": 8,\n",
        "            \"comment\": \"BMI calculations using the functions looks a bit interesting.\"\n",
        "        },\n",
        "        {\n",
        "            \"week\": 3,\n",
        "            \"marks\": \"11\",\n",
        "            \"comment\": \"Calculating the LACE score and COVID-19 severity index is a bit challenging and little bit time taking.\"\n",
        "        },\n",
        "        {\n",
        "            \"week\": 4,\n",
        "            \"marks\": 10,\n",
        "            \"comment\": \"Creating a sorted list of names using list, dictionary, and tuple is very interesting and brainstorming.\"\n",
        "        }\n",
        "    ]\n",
        "}\n",
        "\"\"\""
      ]
    },
    {
      "cell_type": "markdown",
      "metadata": {
        "id": "ORGa7hMcOno-"
      },
      "source": [
        "## 7.2 Do something with your JSON\n",
        "\n",
        "Now use Python code to do something with the Json above.  Turn it into English text, but make sure that you use at least one loop to access some dict or list content of your JSON.  Below, I've provided some basic code to read in the string above as JSON and return a Python object.  Your job is to work with that data structure and print out the important information like your name, email, and how you did on each assignment."
      ]
    },
    {
      "cell_type": "code",
      "execution_count": 5,
      "metadata": {
        "id": "51mdfB9_Ono-",
        "outputId": "550d0018-98fb-4da8-b4da-92d89b18dbff",
        "colab": {
          "base_uri": "https://localhost:8080/"
        }
      },
      "outputs": [
        {
          "output_type": "stream",
          "name": "stdout",
          "text": [
            "venkatesh paturu (venkatesh.pharmd16@gmail.com) was born in 1997 and has received the following grades:\n",
            "\n",
            "In week 1, i have scored 10 marks. Comment: Creating a GitHub account and adding the instructor as a collaborator is easy.\n",
            "In week 2, i have scored 8 marks. Comment: BMI calculations using the functions looks a bit interesting.\n",
            "In week 3, i have scored 11 marks. Comment: Calculating the LACE score and COVID-19 severity index is a bit challenging and little bit time taking.\n",
            "In week 4, i have scored 10 marks. Comment: Creating a sorted list of names using list, dictionary, and tuple is very interesting and brainstorming.\n"
          ]
        }
      ],
      "source": [
        "import json\n",
        "\n",
        "# Sample JSON data as a dictionary\n",
        "student_info = \"\"\"\n",
        "{\n",
        "    \"name\": \"venkatesh paturu\",\n",
        "    \"email\": \"venkatesh.pharmd16@gmail.com\",\n",
        "    \"year_born\": 1997,\n",
        "    \"marcks\": [\n",
        "        {\n",
        "            \"week\": 1,\n",
        "            \"marcks\": 10,\n",
        "            \"comment\": \"Creating a GitHub account and adding the instructor as a collaborator is easy.\"\n",
        "        },\n",
        "        {\n",
        "            \"week\": 2,\n",
        "            \"marcks\": 8,\n",
        "            \"comment\": \"BMI calculations using the functions looks a bit interesting.\"\n",
        "        },\n",
        "        {\n",
        "            \"week\": 3,\n",
        "            \"marcks\": \"11\",\n",
        "            \"comment\": \"Calculating the LACE score and COVID-19 severity index is a bit challenging and little bit time taking.\"\n",
        "        },\n",
        "        {\n",
        "            \"week\": 4,\n",
        "            \"marcks\": 10,\n",
        "            \"comment\": \"Creating a sorted list of names using list, dictionary, and tuple is very interesting and brainstorming.\"\n",
        "        }\n",
        "    ]\n",
        "}\n",
        "\"\"\"\n",
        "\n",
        "# Function to convert JSON data to a  paragraph\n",
        "def describe_academic_performance(json_data):\n",
        "    # Load the JSON into a Python object\n",
        "    data = json.loads(json_data)\n",
        "\n",
        "    # Start the paragraph\n",
        "    description = []\n",
        "    description.append(f\"{data['name']} ({data['email']}) was born in {data['year_born']} and has received the following grades:\\n\")\n",
        "\n",
        "    # Looping through each record of marks\n",
        "    for record in data['marcks']:\n",
        "        week = record['week']\n",
        "        marks = record['marcks']\n",
        "        comment = record['comment']\n",
        "        description.append(f\"In week {week}, i have scored {marks} marks. Comment: {comment}\")\n",
        "\n",
        "    # Combining the list into a single paragraph\n",
        "    return \"\\n\".join(description)\n",
        "\n",
        "# Generate the academic performance\n",
        "academic_description = describe_academic_performance(student_info)\n",
        "print(academic_description)\n"
      ]
    },
    {
      "cell_type": "code",
      "source": [],
      "metadata": {
        "id": "Fd6bKrnfid_W"
      },
      "execution_count": null,
      "outputs": []
    },
    {
      "cell_type": "markdown",
      "metadata": {
        "id": "cqthupFtOno-"
      },
      "source": [
        "## 7.3 Reflect\n",
        "\n",
        "Write a paragraph on any reflections you have. Was this hard? Easy?  What parts were most challenging or easiest? What did you like or dislike about the assignment?  Share whatever important thoughts you have abou this assignment."
      ]
    },
    {
      "cell_type": "markdown",
      "metadata": {
        "id": "BC1H_uxQOno_"
      },
      "source": [
        "Hello sir, first of all thank you for giving this oppurtunity to share the thoughts about the assignments. From week 1 to till now I have improved alot. As I am from non-coding background I was afraid of this subject but professor made it easy by providing different types of examples, inclass assignments and rectifying my doubts with my friends and professor. when it comes with this week assignments I felt it was bit difficult but I tried it well. Almost in each and every assignment i have learned a new things like how to write a list or a dictionary. Mainly this coding subject made me to think in a broad and diverse way, like incresing my patience level, i mean in a way that, how i handle the assertion errors and syntax errors. Finally thank you so much for explaining the topis in easier way. I really like the way how you explain the doubts to individual persons in the class."
      ]
    },
    {
      "cell_type": "markdown",
      "metadata": {
        "id": "tj2Qk6DqOno_"
      },
      "source": [
        "---\n",
        "\n",
        "# Example\n",
        "\n",
        "Below is an example of something similar, but this uses information my and my friend's kids instead of grades."
      ]
    },
    {
      "cell_type": "code",
      "execution_count": null,
      "metadata": {
        "id": "9mRgdIacOno_",
        "outputId": "b6f5ca9e-0d6a-4944-f7e9-71a71b505128",
        "colab": {
          "base_uri": "https://localhost:8080/"
        }
      },
      "outputs": [
        {
          "output_type": "stream",
          "name": "stdout",
          "text": [
            "Hi, my name is Paul. I've got 3 kids. Their names are Ellie, Ada, Teddy.\n",
            "My friend, Anny has 1 kids. That's fewer than me. Their names are 1\n"
          ]
        }
      ],
      "source": [
        "hds5210 = \"\"\"\n",
        "{\n",
        "    \"me\": {\n",
        "        \"name\": \"Paul\",\n",
        "        \"kids\": [\"Ellie\", \"Ada\", \"Teddy\"]\n",
        "    },\n",
        "    \"friend\": {\n",
        "        \"name\": \"Anny\",\n",
        "        \"kids\": [\"Abby\"]\n",
        "    }\n",
        "}\n",
        "\"\"\"\n",
        "\n",
        "import json\n",
        "\n",
        "info = json.loads(hds5210)\n",
        "\n",
        "me = info[\"me\"][\"name\"]\n",
        "my_kids_count = len(info[\"me\"][\"kids\"])\n",
        "kids_list = \", \".join(info[\"me\"][\"kids\"])\n",
        "friend = info[\"friend\"][\"name\"]\n",
        "friends_kid_count = len(info[\"friend\"][\"kids\"])\n",
        "friend_kids = \", \".join(info[\"friend\"][\"kids\"])\n",
        "compare = \"more\" if friends_kid_count > my_kids_count else \"fewer\"\n",
        "\n",
        "print(f\"Hi, my name is {me}. I've got {my_kids_count} kids. Their names are {kids_list}.\")\n",
        "print(f\"My friend, {friend} has {friends_kid_count} kids. That's {compare} than me. Their names are {friends_kid_count}\")"
      ]
    }
  ],
  "metadata": {
    "kernelspec": {
      "display_name": "Python 3",
      "language": "python",
      "name": "python3"
    },
    "language_info": {
      "codemirror_mode": {
        "name": "ipython",
        "version": 3
      },
      "file_extension": ".py",
      "mimetype": "text/x-python",
      "name": "python",
      "nbconvert_exporter": "python",
      "pygments_lexer": "ipython3",
      "version": "3.9.16"
    },
    "colab": {
      "provenance": [],
      "include_colab_link": true
    }
  },
  "nbformat": 4,
  "nbformat_minor": 0
}